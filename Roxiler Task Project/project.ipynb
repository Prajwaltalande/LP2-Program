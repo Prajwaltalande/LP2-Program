{
 "cells": [
  {
   "cell_type": "code",
   "execution_count": 4,
   "metadata": {},
   "outputs": [
    {
     "name": "stdout",
     "output_type": "stream",
     "text": [
      "Requirement already satisfied: flask in c:\\users\\prajw\\appdata\\local\\programs\\python\\python312\\lib\\site-packages (3.0.3)\n",
      "Requirement already satisfied: pandas in c:\\users\\prajw\\appdata\\local\\programs\\python\\python312\\lib\\site-packages (2.2.3)\n",
      "Requirement already satisfied: requests in c:\\users\\prajw\\appdata\\local\\programs\\python\\python312\\lib\\site-packages (2.32.3)\n",
      "Requirement already satisfied: Werkzeug>=3.0.0 in c:\\users\\prajw\\appdata\\local\\programs\\python\\python312\\lib\\site-packages (from flask) (3.0.4)\n",
      "Requirement already satisfied: Jinja2>=3.1.2 in c:\\users\\prajw\\appdata\\local\\programs\\python\\python312\\lib\\site-packages (from flask) (3.1.4)\n",
      "Requirement already satisfied: itsdangerous>=2.1.2 in c:\\users\\prajw\\appdata\\local\\programs\\python\\python312\\lib\\site-packages (from flask) (2.2.0)\n",
      "Requirement already satisfied: click>=8.1.3 in c:\\users\\prajw\\appdata\\local\\programs\\python\\python312\\lib\\site-packages (from flask) (8.1.7)\n",
      "Requirement already satisfied: blinker>=1.6.2 in c:\\users\\prajw\\appdata\\local\\programs\\python\\python312\\lib\\site-packages (from flask) (1.8.2)\n",
      "Requirement already satisfied: numpy>=1.26.0 in c:\\users\\prajw\\appdata\\local\\programs\\python\\python312\\lib\\site-packages (from pandas) (2.1.2)\n",
      "Requirement already satisfied: python-dateutil>=2.8.2 in c:\\users\\prajw\\appdata\\roaming\\python\\python312\\site-packages (from pandas) (2.9.0.post0)\n",
      "Requirement already satisfied: pytz>=2020.1 in c:\\users\\prajw\\appdata\\local\\programs\\python\\python312\\lib\\site-packages (from pandas) (2024.2)\n",
      "Requirement already satisfied: tzdata>=2022.7 in c:\\users\\prajw\\appdata\\local\\programs\\python\\python312\\lib\\site-packages (from pandas) (2024.2)\n",
      "Requirement already satisfied: charset-normalizer<4,>=2 in c:\\users\\prajw\\appdata\\local\\programs\\python\\python312\\lib\\site-packages (from requests) (3.3.2)\n",
      "Requirement already satisfied: idna<4,>=2.5 in c:\\users\\prajw\\appdata\\local\\programs\\python\\python312\\lib\\site-packages (from requests) (3.10)\n",
      "Requirement already satisfied: urllib3<3,>=1.21.1 in c:\\users\\prajw\\appdata\\local\\programs\\python\\python312\\lib\\site-packages (from requests) (2.2.3)\n",
      "Requirement already satisfied: certifi>=2017.4.17 in c:\\users\\prajw\\appdata\\local\\programs\\python\\python312\\lib\\site-packages (from requests) (2024.8.30)\n",
      "Requirement already satisfied: colorama in c:\\users\\prajw\\appdata\\roaming\\python\\python312\\site-packages (from click>=8.1.3->flask) (0.4.6)\n",
      "Requirement already satisfied: MarkupSafe>=2.0 in c:\\users\\prajw\\appdata\\local\\programs\\python\\python312\\lib\\site-packages (from Jinja2>=3.1.2->flask) (3.0.1)\n",
      "Requirement already satisfied: six>=1.5 in c:\\users\\prajw\\appdata\\roaming\\python\\python312\\site-packages (from python-dateutil>=2.8.2->pandas) (1.16.0)\n",
      "Note: you may need to restart the kernel to use updated packages.\n"
     ]
    }
   ],
   "source": [
    "\n",
    "pip install flask pandas requests"
   ]
  },
  {
   "cell_type": "code",
   "execution_count": 5,
   "metadata": {},
   "outputs": [
    {
     "name": "stdout",
     "output_type": "stream",
     "text": [
      " * Serving Flask app '__main__'\n",
      " * Debug mode: on\n"
     ]
    },
    {
     "name": "stderr",
     "output_type": "stream",
     "text": [
      "WARNING: This is a development server. Do not use it in a production deployment. Use a production WSGI server instead.\n",
      " * Running on http://127.0.0.1:5000\n",
      "Press CTRL+C to quit\n",
      " * Restarting with stat\n"
     ]
    },
    {
     "ename": "SystemExit",
     "evalue": "1",
     "output_type": "error",
     "traceback": [
      "An exception has occurred, use %tb to see the full traceback.\n",
      "\u001b[1;31mSystemExit\u001b[0m\u001b[1;31m:\u001b[0m 1\n"
     ]
    },
    {
     "name": "stderr",
     "output_type": "stream",
     "text": [
      "C:\\Users\\prajw\\AppData\\Roaming\\Python\\Python312\\site-packages\\IPython\\core\\interactiveshell.py:3585: UserWarning: To exit: use 'exit', 'quit', or Ctrl-D.\n",
      "  warn(\"To exit: use 'exit', 'quit', or Ctrl-D.\", stacklevel=1)\n"
     ]
    }
   ],
   "source": [
    "from flask import Flask, jsonify, request\n",
    "import pandas as pd\n",
    "import requests\n",
    "\n",
    "app = Flask(__name__)\n",
    "\n",
    "# Step 3: Fetch the data from the third-party API and initialize the database (in-memory)\n",
    "DATA_URL = \"https://s3.amazonaws.com/roxiler.com/product_transaction.json\"\n",
    "response = requests.get(DATA_URL)\n",
    "data = response.json()\n",
    "\n",
    "# Convert the JSON data into a pandas DataFrame\n",
    "df = pd.DataFrame(data)\n",
    "\n",
    "# Convert the dateOfSale to datetime to extract the month later\n",
    "df['dateOfSale'] = pd.to_datetime(df['dateOfSale'])\n",
    "\n",
    "# Helper function to filter by month\n",
    "def filter_by_month(df, month):\n",
    "    return df[df['dateOfSale'].dt.month == month]\n",
    "\n",
    "# Step 4: Create the API to list all transactions (with search and pagination)\n",
    "@app.route('/transactions', methods=['GET'])\n",
    "def get_transactions():\n",
    "    month = int(request.args.get('month', 1))  # Default to January\n",
    "    search = request.args.get('search', '').lower()\n",
    "    page = int(request.args.get('page', 1))\n",
    "    per_page = int(request.args.get('per_page', 10))\n",
    "\n",
    "    # Filter by month\n",
    "    filtered_df = filter_by_month(df, month)\n",
    "\n",
    "    # Apply search filters if provided\n",
    "    if search:\n",
    "        filtered_df = filtered_df[\n",
    "            filtered_df['title'].str.lower().str.contains(search) |\n",
    "            filtered_df['description'].str.lower().str.contains(search) |\n",
    "            filtered_df['price'].astype(str).str.contains(search)\n",
    "        ]\n",
    "\n",
    "    # Pagination\n",
    "    start = (page - 1) * per_page\n",
    "    end = start + per_page\n",
    "    paginated_df = filtered_df.iloc[start:end]\n",
    "\n",
    "    # Convert the DataFrame to a list of dictionaries (JSON format)\n",
    "    transactions = paginated_df.to_dict(orient='records')\n",
    "    return jsonify(transactions)\n",
    "\n",
    "# Step 5: Create the API for statistics\n",
    "@app.route('/statistics', methods=['GET'])\n",
    "def get_statistics():\n",
    "    month = int(request.args.get('month', 1))  # Default to January\n",
    "    filtered_df = filter_by_month(df, month)\n",
    "\n",
    "    total_sale_amount = filtered_df['price'].sum()\n",
    "    total_sold_items = len(filtered_df[filtered_df['sold'] == True])\n",
    "    total_not_sold_items = len(filtered_df[filtered_df['sold'] == False])\n",
    "\n",
    "    stats = {\n",
    "        \"totalSaleAmount\": total_sale_amount,\n",
    "        \"totalSoldItems\": total_sold_items,\n",
    "        \"totalNotSoldItems\": total_not_sold_items\n",
    "    }\n",
    "    return jsonify(stats)\n",
    "\n",
    "# Step 6: Create the API for bar chart (price range)\n",
    "@app.route('/bar-chart', methods=['GET'])\n",
    "def get_bar_chart():\n",
    "    month = int(request.args.get('month', 1))  # Default to January\n",
    "    filtered_df = filter_by_month(df, month)\n",
    "\n",
    "    # Define price ranges\n",
    "    ranges = [(0, 100), (101, 200), (201, 300), (301, 400), (401, 500), \n",
    "              (501, 600), (601, 700), (701, 800), (801, 900), (901, float('inf'))]\n",
    "\n",
    "    # Count the number of items in each price range\n",
    "    bar_chart_data = []\n",
    "    for lower, upper in ranges:\n",
    "        count = len(filtered_df[(filtered_df['price'] >= lower) & (filtered_df['price'] <= upper)])\n",
    "        bar_chart_data.append({\n",
    "            \"range\": f\"{lower}-{upper}\" if upper != float('inf') else \"901+\",\n",
    "            \"count\": count\n",
    "        })\n",
    "\n",
    "    return jsonify(bar_chart_data)\n",
    "\n",
    "# Step 7: Create the API for pie chart (category distribution)\n",
    "@app.route('/pie-chart', methods=['GET'])\n",
    "def get_pie_chart():\n",
    "    month = int(request.args.get('month', 1))  # Default to January\n",
    "    filtered_df = filter_by_month(df, month)\n",
    "\n",
    "    # Get unique categories and their item counts\n",
    "    pie_chart_data = filtered_df['category'].value_counts().to_dict()\n",
    "    return jsonify(pie_chart_data)\n",
    "\n",
    "# Step 8: Create the combined API for all data\n",
    "@app.route('/combined-data', methods=['GET'])\n",
    "def get_combined_data():\n",
    "    month = int(request.args.get('month', 1))  # Default to January\n",
    "    \n",
    "    # Fetch transactions, statistics, bar chart, and pie chart data\n",
    "    transactions = get_transactions().json\n",
    "    statistics = get_statistics().json\n",
    "    bar_chart = get_bar_chart().json\n",
    "    pie_chart = get_pie_chart().json\n",
    "\n",
    "    # Combine all the data into one response\n",
    "    combined_data = {\n",
    "        \"transactions\": transactions,\n",
    "        \"statistics\": statistics,\n",
    "        \"bar_chart\": bar_chart,\n",
    "        \"pie_chart\": pie_chart\n",
    "    }\n",
    "    return jsonify(combined_data)\n",
    "\n",
    "if __name__ == \"__main__\":\n",
    "    app.run(debug=True)\n"
   ]
  },
  {
   "cell_type": "code",
   "execution_count": null,
   "metadata": {},
   "outputs": [],
   "source": []
  }
 ],
 "metadata": {
  "kernelspec": {
   "display_name": "Python 3",
   "language": "python",
   "name": "python3"
  },
  "language_info": {
   "codemirror_mode": {
    "name": "ipython",
    "version": 3
   },
   "file_extension": ".py",
   "mimetype": "text/x-python",
   "name": "python",
   "nbconvert_exporter": "python",
   "pygments_lexer": "ipython3",
   "version": "3.12.6"
  }
 },
 "nbformat": 4,
 "nbformat_minor": 2
}
