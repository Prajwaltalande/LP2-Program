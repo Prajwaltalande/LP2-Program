{
 "cells": [
  {
   "cell_type": "code",
   "execution_count": 1,
   "metadata": {},
   "outputs": [
    {
     "name": "stdout",
     "output_type": "stream",
     "text": [
      "Collecting flask_sqlalchemy\n",
      "  Downloading flask_sqlalchemy-3.1.1-py3-none-any.whl.metadata (3.4 kB)\n",
      "Requirement already satisfied: flask>=2.2.5 in c:\\users\\prajw\\appdata\\local\\programs\\python\\python312\\lib\\site-packages (from flask_sqlalchemy) (3.0.3)\n",
      "Collecting sqlalchemy>=2.0.16 (from flask_sqlalchemy)\n",
      "  Downloading SQLAlchemy-2.0.35-cp312-cp312-win_amd64.whl.metadata (9.9 kB)\n",
      "Requirement already satisfied: Werkzeug>=3.0.0 in c:\\users\\prajw\\appdata\\local\\programs\\python\\python312\\lib\\site-packages (from flask>=2.2.5->flask_sqlalchemy) (3.0.4)\n",
      "Requirement already satisfied: Jinja2>=3.1.2 in c:\\users\\prajw\\appdata\\local\\programs\\python\\python312\\lib\\site-packages (from flask>=2.2.5->flask_sqlalchemy) (3.1.4)\n",
      "Requirement already satisfied: itsdangerous>=2.1.2 in c:\\users\\prajw\\appdata\\local\\programs\\python\\python312\\lib\\site-packages (from flask>=2.2.5->flask_sqlalchemy) (2.2.0)\n",
      "Requirement already satisfied: click>=8.1.3 in c:\\users\\prajw\\appdata\\local\\programs\\python\\python312\\lib\\site-packages (from flask>=2.2.5->flask_sqlalchemy) (8.1.7)\n",
      "Requirement already satisfied: blinker>=1.6.2 in c:\\users\\prajw\\appdata\\local\\programs\\python\\python312\\lib\\site-packages (from flask>=2.2.5->flask_sqlalchemy) (1.8.2)\n",
      "Collecting typing-extensions>=4.6.0 (from sqlalchemy>=2.0.16->flask_sqlalchemy)\n",
      "  Downloading typing_extensions-4.12.2-py3-none-any.whl.metadata (3.0 kB)\n",
      "Collecting greenlet!=0.4.17 (from sqlalchemy>=2.0.16->flask_sqlalchemy)\n",
      "  Downloading greenlet-3.1.1-cp312-cp312-win_amd64.whl.metadata (3.9 kB)\n",
      "Requirement already satisfied: colorama in c:\\users\\prajw\\appdata\\roaming\\python\\python312\\site-packages (from click>=8.1.3->flask>=2.2.5->flask_sqlalchemy) (0.4.6)\n",
      "Requirement already satisfied: MarkupSafe>=2.0 in c:\\users\\prajw\\appdata\\local\\programs\\python\\python312\\lib\\site-packages (from Jinja2>=3.1.2->flask>=2.2.5->flask_sqlalchemy) (3.0.1)\n",
      "Downloading flask_sqlalchemy-3.1.1-py3-none-any.whl (25 kB)\n",
      "Downloading SQLAlchemy-2.0.35-cp312-cp312-win_amd64.whl (2.1 MB)\n",
      "   ---------------------------------------- 0.0/2.1 MB ? eta -:--:--\n",
      "   ----- ---------------------------------- 0.3/2.1 MB ? eta -:--:--\n",
      "   ---------- ----------------------------- 0.5/2.1 MB 2.1 MB/s eta 0:00:01\n",
      "   -------------------- ------------------- 1.0/2.1 MB 2.1 MB/s eta 0:00:01\n",
      "   ------------------------------ --------- 1.6/2.1 MB 2.1 MB/s eta 0:00:01\n",
      "   ---------------------------------------- 2.1/2.1 MB 2.2 MB/s eta 0:00:00\n",
      "Downloading greenlet-3.1.1-cp312-cp312-win_amd64.whl (299 kB)\n",
      "Downloading typing_extensions-4.12.2-py3-none-any.whl (37 kB)\n",
      "Installing collected packages: typing-extensions, greenlet, sqlalchemy, flask_sqlalchemy\n",
      "Successfully installed flask_sqlalchemy-3.1.1 greenlet-3.1.1 sqlalchemy-2.0.35 typing-extensions-4.12.2\n",
      "Note: you may need to restart the kernel to use updated packages.\n"
     ]
    }
   ],
   "source": [
    "pip install flask_sqlalchemy\n"
   ]
  },
  {
   "cell_type": "code",
   "execution_count": 3,
   "metadata": {},
   "outputs": [],
   "source": [
    "from dateutil import parser  # Add this import for robust datetime parsing\n",
    "\n",
    "# Initialize the database with the fetched data\n",
    "def initialize_database(data):\n",
    "    for item in data:\n",
    "        # Use dateutil parser to automatically handle various datetime formats\n",
    "        date_of_sale = parser.isoparse(item['dateOfSale'])\n",
    "\n",
    "        # Create a new Transaction object for each record\n",
    "        transaction = Transaction(\n",
    "            title=item['title'],\n",
    "            description=item['description'],\n",
    "            price=item['price'],\n",
    "            category=item['category'],\n",
    "            sold=item['sold'],\n",
    "            date_of_sale=date_of_sale\n",
    "        )\n",
    "\n",
    "        # Add to the session and commit to the database\n",
    "        db.session.add(transaction)\n",
    "    db.session.commit()\n",
    "\n",
    "# Initialize the database with seed data\n",
    "with app.app_context():\n",
    "    initialize_database(data)\n"
   ]
  },
  {
   "cell_type": "code",
   "execution_count": null,
   "metadata": {},
   "outputs": [],
   "source": []
  }
 ],
 "metadata": {
  "kernelspec": {
   "display_name": "Python 3",
   "language": "python",
   "name": "python3"
  },
  "language_info": {
   "codemirror_mode": {
    "name": "ipython",
    "version": 3
   },
   "file_extension": ".py",
   "mimetype": "text/x-python",
   "name": "python",
   "nbconvert_exporter": "python",
   "pygments_lexer": "ipython3",
   "version": "3.12.6"
  }
 },
 "nbformat": 4,
 "nbformat_minor": 2
}
